{
 "cells": [
  {
   "cell_type": "markdown",
   "metadata": {},
   "source": [
    "# at-webscraping \n",
    "\n"
   ]
  },
  {
   "cell_type": "markdown",
   "metadata": {},
   "source": [
    "Test1"
   ]
  },
  {
   "cell_type": "code",
   "execution_count": 1,
   "metadata": {},
   "outputs": [],
   "source": [
    "import pandas as pd\n",
    "import csv\n",
    "# Web scraping, pickle imports\n",
    "import requests\n",
    "from bs4 import BeautifulSoup\n",
    "import pickle\n",
    "\n",
    "# Scrapes data from dmart online hyd store"
   ]
  },
  {
   "cell_type": "code",
   "execution_count": 2,
   "metadata": {},
   "outputs": [],
   "source": [
    "# URLs of transcripts in scope\n",
    "urls = ['https://www.dmart.in/product/chana--dal',\n",
    "        'https://www.dmart.in/category/moong-dal-aesc-moong-dalsc2',\n",
    "        'https://www.dmart.in/category/tur-dal-aesc-tur-dalsc2',\n",
    "        'https://www.dmart.in/category/urad-dal-aesc-urad-dalsc2',\n",
    "        'https://www.dmart.in/category/masoor-dal-aesc-masoor-dalsc2',\n",
    "        'https://www.dmart.in/category/daliya-aesc-daliyasc2',\n",
    "        'https://www.dmart.in/category/mix-dal-aesc-mix-dalsc2']\n",
    "#Dals\n",
    "Dals=['Chana Dal','Moong Dal','Tur Dal','Urad Dal','Masoor Dal','Daliya','Mix Dal']\n",
    "\n",
    "        "
   ]
  },
  {
   "cell_type": "code",
   "execution_count": 3,
   "metadata": {},
   "outputs": [
    {
     "name": "stdout",
     "output_type": "stream",
     "text": [
      "<Response [200]>\n"
     ]
    }
   ],
   "source": [
    "import requests\n",
    "from bs4 import BeautifulSoup\n",
    "from csv import writer\n",
    "\n",
    "header={'user-agent': 'Mozilla/5.0 (Windows NT 10.0; Win64; x64) AppleWebKit/537.36 (KHTML, like Gecko) Chrome/108.0.0.0 Safari/537.36'}\n",
    "\n",
    "url = 'https://www.dmart.in/category/dals-aesc-dals'\n",
    "\n",
    "page = requests.get(url)\n",
    "print(page)\n",
    "\n"
   ]
  },
  {
   "cell_type": "code",
   "execution_count": 4,
   "metadata": {},
   "outputs": [
    {
     "data": {
      "text/plain": [
       "'<!doctype html><html lang=\"en\"><head><meta http-equiv=\"X-UA-Compatible\" content=\"IE=edge\" /><meta charset=\"utf-8\" /><meta name=\"theme-color\" content=\"#6DAD5C\"><meta name=\"viewport\" content=\"width=device-width, initial-scale=1, maximum-scale=1, user-scalable=0\"><meta name=\"Description\" content=\"DMart Ready: Online shopping at best price. Buy grocery &amp; household essentials at best prices every day.\"><meta name=\"keywords\" content=\"DMart Grocery, Buy Grocery Online, Online Grocery, Grocery Store, Online Grocery Shopping,Online Grocery Store, Online Supermarket, Free Delivery, Great Offers, Daily Savings, Monthly Essentials\"><title>DMart Ready</title><link rel=\"stylesheet\" href=\"https://fonts.googleapis.com/css?family=Muli:400,600,700&display=swap\"><link rel=\"preconnect\" crossorigin=\"anonymous\" href=\"https://cdn.dmart.in\"><link rel=\"preconnect\" crossorigin=\"anonymous\" href=\"https://digital.dmart.in/api\"><script src=\"https://www.google.com/recaptcha/enterprise.js?render=6Le9bDgiAAAAAK2CeX4iP23GOVPHIhy2WvlAbmfn\"></script><style>@import \"https://fonts.googleapis.com/icon?family=Material+Icons|Material+Icons+Outlined\";:root {--font-xxxs: 10px;--font-xxs: 12px;--font-xs: 14px;--font-sm: 16px;--font-md: 20px;--font-lg: 24px;--font-xlg: 26px;}@media only screen and (min-width: 1920px) {:root {--font-xxxs: 10px;--font-xxs: 12px;--font-xs: 14px;--font-sm: 16px;--font-md: 20px;--font-lg: 24px;--font-xlg: 26px;}}@media only screen and (max-width: 360px) {:root {--font-xxxs: 10px;--font-xxs: 12px;--font-xs: 14px;--font-sm: 16px;--font-md: 16px;--font-lg: 20px;--font-xlg: 22px;}}#preloader {max-width: 1080px;width: 100%;margin: 64px auto;}.logo {width: 198px;height: 79px;margin: 8px auto;}.preloader-text {font-family: \"Muli\", sans-serif;font-size: 16px;text-align: center;margin: 16px auto;}</style><link data-chunk=\"client\" rel=\"preload\" as=\"style\" href=\"https://content.dmart.in/site/static/css/client.06754288.chunk.css\"><link data-chunk=\"client\" rel=\"preload\" as=\"script\" href=\"https://content.dmart.in/site/static/js/runtime~client.e882f8f8.js\"><link data-chunk=\"client\" rel=\"preload\" as=\"script\" href=\"https://content.dmart.in/site/static/js/commons-client-index.js.449fb516.chunk.js\"><link data-chunk=\"client\" rel=\"preload\" as=\"script\" href=\"https://content.dmart.in/site/static/js/commons-client-core.js.b65581df.chunk.js\"><link data-chunk=\"client\" rel=\"preload\" as=\"script\" href=\"https://content.dmart.in/site/static/js/client.df5d021e.chunk.js\"><link data-chunk=\"client\" rel=\"stylesheet\" href=\"https://content.dmart.in/site/static/css/client.06754288.chunk.css\"><script>!(function (f, b, e, v, n, t, s) {if (f.fbq) return;n = f.fbq = function () {n.callMethod ? n.callMethod.apply(n, arguments) : n.queue.push(arguments);};if (!f._fbq) f._fbq = n;n.push = n;n.loaded = !0;n.version = \"2.0\";n.queue = [];t = b.createElement(e);t.async = !0;t.src = v;s = b.getElementsByTagName(e)[0];s.parentNode.insertBefore(t, s);})(window,document,\"script\",\"https://connect.facebook.net/en_US/fbevents.js\");fbq(\"init\", \"771099387010757\");fbq(\"track\", \"PageView\");</script><noscript><imgheight=\"1\"width=\"1\"style=\"display: none\"src=\"https://www.facebook.com/tr?id=771099387010757&ev=PageView&noscript=1\"/></noscript></head><body><div id=\"preloader\"><div class=\"logo\"><img alt=\"logo\" src=\"https://content.dmart.in/img/DMartReady.svg\" /></div><p class=\"preloader-text\">LOADING</p></div><div id=\"root\"><div class=\"makeStyles-root-1\"></div><div></div></div><script>window.__PRELOADED_STATE__ = {\"commonReducer\":{\"loader\":false,\"maintenance\":{\"active\":false,\"title\":\"\",\"message\":\"\",\"image\":\"\"},\"error\":{},\"common\":{},\"user\":{},\"userType\":\"curious\",\"guest\":{},\"cart\":{},\"configs\":{},\"showFooter\":true,\"showHelp\":{\"show\":false,\"orderId\":\"\"},\"stream\":{},\"isApp\":false,\"shipmentSlots\":{},\"modalDataShipment\":null,\"isAllSlotSelected\":false,\"showConfirmShipmentBtn\":false,\"razorpayData\":{},\"pincodeTimeSlots\":null,\"showEarlierTimeSlotWidget\":true,\"showEarlierTimeSlotWidgetInHomepage\":false},\"_persist\":{\"version\":-1,\"rehydrated\":false}};window.__EXISTING_SESSION__ = null;window.__MAINTENANCE__ = false;window.__PAYMENT_CALLBACK__ = {};</script><script id=\"__LOADABLE_REQUIRED_CHUNKS__\" type=\"application/json\" crossOrigin=\"\">[]</script><script id=\"__LOADABLE_REQUIRED_CHUNKS___ext\" type=\"application/json\" crossOrigin=\"\">{\"namedChunks\":[]}</script><script async data-chunk=\"client\" src=\"https://content.dmart.in/site/static/js/runtime~client.e882f8f8.js\" crossOrigin=\"\"></script><script async data-chunk=\"client\" src=\"https://content.dmart.in/site/static/js/commons-client-index.js.449fb516.chunk.js\" crossOrigin=\"\"></script><script async data-chunk=\"client\" src=\"https://content.dmart.in/site/static/js/commons-client-core.js.b65581df.chunk.js\" crossOrigin=\"\"></script><script async data-chunk=\"client\" src=\"https://content.dmart.in/site/static/js/client.df5d021e.chunk.js\" crossOrigin=\"\"></script><script type=\"text/javascript\">if (\\'serviceWorker\\' in navigator) {window.addEventListener(\\'load\\', function () {navigator.serviceWorker.register(\\'service-worker.js\\', { scope: \\'/\\' }).then(function (registration) {console.log(\\'ServiceWorker registration successful with scope: \\', registration.scope);}, function (err) {console.log(\\'ServiceWorker registration failed: \\', err);});});}</script></body></html>'"
      ]
     },
     "execution_count": 4,
     "metadata": {},
     "output_type": "execute_result"
    }
   ],
   "source": [
    "page.text"
   ]
  },
  {
   "cell_type": "code",
   "execution_count": 5,
   "metadata": {},
   "outputs": [
    {
     "data": {
      "text/plain": [
       "<!DOCTYPE html>\n",
       "<html lang=\"en\"><head><meta content=\"IE=edge\" http-equiv=\"X-UA-Compatible\"/><meta charset=\"utf-8\"/><meta content=\"#6DAD5C\" name=\"theme-color\"/><meta content=\"width=device-width, initial-scale=1, maximum-scale=1, user-scalable=0\" name=\"viewport\"/><meta content=\"DMart Ready: Online shopping at best price. Buy grocery &amp; household essentials at best prices every day.\" name=\"Description\"/><meta content=\"DMart Grocery, Buy Grocery Online, Online Grocery, Grocery Store, Online Grocery Shopping,Online Grocery Store, Online Supermarket, Free Delivery, Great Offers, Daily Savings, Monthly Essentials\" name=\"keywords\"/><title>DMart Ready</title><link href=\"https://fonts.googleapis.com/css?family=Muli:400,600,700&amp;display=swap\" rel=\"stylesheet\"/><link crossorigin=\"anonymous\" href=\"https://cdn.dmart.in\" rel=\"preconnect\"/><link crossorigin=\"anonymous\" href=\"https://digital.dmart.in/api\" rel=\"preconnect\"/><script src=\"https://www.google.com/recaptcha/enterprise.js?render=6Le9bDgiAAAAAK2CeX4iP23GOVPHIhy2WvlAbmfn\"></script><style>@import \"https://fonts.googleapis.com/icon?family=Material+Icons|Material+Icons+Outlined\";:root {--font-xxxs: 10px;--font-xxs: 12px;--font-xs: 14px;--font-sm: 16px;--font-md: 20px;--font-lg: 24px;--font-xlg: 26px;}@media only screen and (min-width: 1920px) {:root {--font-xxxs: 10px;--font-xxs: 12px;--font-xs: 14px;--font-sm: 16px;--font-md: 20px;--font-lg: 24px;--font-xlg: 26px;}}@media only screen and (max-width: 360px) {:root {--font-xxxs: 10px;--font-xxs: 12px;--font-xs: 14px;--font-sm: 16px;--font-md: 16px;--font-lg: 20px;--font-xlg: 22px;}}#preloader {max-width: 1080px;width: 100%;margin: 64px auto;}.logo {width: 198px;height: 79px;margin: 8px auto;}.preloader-text {font-family: \"Muli\", sans-serif;font-size: 16px;text-align: center;margin: 16px auto;}</style><link as=\"style\" data-chunk=\"client\" href=\"https://content.dmart.in/site/static/css/client.06754288.chunk.css\" rel=\"preload\"/><link as=\"script\" data-chunk=\"client\" href=\"https://content.dmart.in/site/static/js/runtime~client.e882f8f8.js\" rel=\"preload\"/><link as=\"script\" data-chunk=\"client\" href=\"https://content.dmart.in/site/static/js/commons-client-index.js.449fb516.chunk.js\" rel=\"preload\"/><link as=\"script\" data-chunk=\"client\" href=\"https://content.dmart.in/site/static/js/commons-client-core.js.b65581df.chunk.js\" rel=\"preload\"/><link as=\"script\" data-chunk=\"client\" href=\"https://content.dmart.in/site/static/js/client.df5d021e.chunk.js\" rel=\"preload\"/><link data-chunk=\"client\" href=\"https://content.dmart.in/site/static/css/client.06754288.chunk.css\" rel=\"stylesheet\"/><script>!(function (f, b, e, v, n, t, s) {if (f.fbq) return;n = f.fbq = function () {n.callMethod ? n.callMethod.apply(n, arguments) : n.queue.push(arguments);};if (!f._fbq) f._fbq = n;n.push = n;n.loaded = !0;n.version = \"2.0\";n.queue = [];t = b.createElement(e);t.async = !0;t.src = v;s = b.getElementsByTagName(e)[0];s.parentNode.insertBefore(t, s);})(window,document,\"script\",\"https://connect.facebook.net/en_US/fbevents.js\");fbq(\"init\", \"771099387010757\");fbq(\"track\", \"PageView\");</script><noscript><imgheight=\"1\"width=\"1\"style=\"display: none\"src=\"https://www.facebook.com/tr?id=771099387010757&amp;ev=PageView&amp;noscript=1\"></imgheight=\"1\"width=\"1\"style=\"display:></noscript></head><body><div id=\"preloader\"><div class=\"logo\"><img alt=\"logo\" src=\"https://content.dmart.in/img/DMartReady.svg\"/></div><p class=\"preloader-text\">LOADING</p></div><div id=\"root\"><div class=\"makeStyles-root-1\"></div><div></div></div><script>window.__PRELOADED_STATE__ = {\"commonReducer\":{\"loader\":false,\"maintenance\":{\"active\":false,\"title\":\"\",\"message\":\"\",\"image\":\"\"},\"error\":{},\"common\":{},\"user\":{},\"userType\":\"curious\",\"guest\":{},\"cart\":{},\"configs\":{},\"showFooter\":true,\"showHelp\":{\"show\":false,\"orderId\":\"\"},\"stream\":{},\"isApp\":false,\"shipmentSlots\":{},\"modalDataShipment\":null,\"isAllSlotSelected\":false,\"showConfirmShipmentBtn\":false,\"razorpayData\":{},\"pincodeTimeSlots\":null,\"showEarlierTimeSlotWidget\":true,\"showEarlierTimeSlotWidgetInHomepage\":false},\"_persist\":{\"version\":-1,\"rehydrated\":false}};window.__EXISTING_SESSION__ = null;window.__MAINTENANCE__ = false;window.__PAYMENT_CALLBACK__ = {};</script><script crossorigin=\"\" id=\"__LOADABLE_REQUIRED_CHUNKS__\" type=\"application/json\">[]</script><script crossorigin=\"\" id=\"__LOADABLE_REQUIRED_CHUNKS___ext\" type=\"application/json\">{\"namedChunks\":[]}</script><script async=\"\" crossorigin=\"\" data-chunk=\"client\" src=\"https://content.dmart.in/site/static/js/runtime~client.e882f8f8.js\"></script><script async=\"\" crossorigin=\"\" data-chunk=\"client\" src=\"https://content.dmart.in/site/static/js/commons-client-index.js.449fb516.chunk.js\"></script><script async=\"\" crossorigin=\"\" data-chunk=\"client\" src=\"https://content.dmart.in/site/static/js/commons-client-core.js.b65581df.chunk.js\"></script><script async=\"\" crossorigin=\"\" data-chunk=\"client\" src=\"https://content.dmart.in/site/static/js/client.df5d021e.chunk.js\"></script><script type=\"text/javascript\">if ('serviceWorker' in navigator) {window.addEventListener('load', function () {navigator.serviceWorker.register('service-worker.js', { scope: '/' }).then(function (registration) {console.log('ServiceWorker registration successful with scope: ', registration.scope);}, function (err) {console.log('ServiceWorker registration failed: ', err);});});}</script></body></html>"
      ]
     },
     "execution_count": 5,
     "metadata": {},
     "output_type": "execute_result"
    }
   ],
   "source": [
    "soup = BeautifulSoup(page.content, 'html.parser')\n",
    "soup"
   ]
  },
  {
   "cell_type": "code",
   "execution_count": 6,
   "metadata": {},
   "outputs": [
    {
     "name": "stdout",
     "output_type": "stream",
     "text": [
      "[]\n"
     ]
    }
   ],
   "source": [
    "results = soup.find_all('div', class_=\"src-client-components-product-card-vertical-card-__vertical-card-module___title-container\")#gridContainerDiv\")\n",
    "print(results)"
   ]
  },
  {
   "cell_type": "code",
   "execution_count": 7,
   "metadata": {},
   "outputs": [],
   "source": [
    "#n=1\n",
    "#n=n+1\n",
    "with open ('Dals.csv', 'w', newline='', encoding='utf8') as f:\n",
    "    thewriter = writer(f)\n",
    "    header1=['Name','Unit_Price','Discounted_Price','Measure_of_Unit','URL_of_the_product']\n",
    "    thewriter.writerow(header)\n",
    "    for result in results:\n",
    "        #Product Code = n\n",
    "        Name = result.find('a', class_=\"module___title\").text\n",
    "        Unit_Price = result.find('span', class_=\"module___label\").text\n",
    "        Discounted_Price = result.find('span', class_=\"module___amount\").text\n",
    "        Measure_of_Unit = result.find('span', class_=\"module___infoTxt\").text\n",
    "        URL_of_the_product = result.find('a', class_=\"href\").text\n",
    "        jobinfo=['Name','Unit_Price','Discounted_Price','Measure_of_Unit','URL_of_the_product']\n",
    "        thewriter.writerow(jobinfo)\n",
    "    "
   ]
  },
  {
   "cell_type": "code",
   "execution_count": 8,
   "metadata": {},
   "outputs": [
    {
     "data": {
      "text/plain": [
       "[<div id=\"preloader\"><div class=\"logo\"><img alt=\"logo\" src=\"https://content.dmart.in/img/DMartReady.svg\"/></div><p class=\"preloader-text\">LOADING</p></div>,\n",
       " <div class=\"logo\"><img alt=\"logo\" src=\"https://content.dmart.in/img/DMartReady.svg\"/></div>,\n",
       " <div id=\"root\"><div class=\"makeStyles-root-1\"></div><div></div></div>,\n",
       " <div class=\"makeStyles-root-1\"></div>,\n",
       " <div></div>]"
      ]
     },
     "execution_count": 8,
     "metadata": {},
     "output_type": "execute_result"
    }
   ],
   "source": [
    "soup.find_all('div')"
   ]
  },
  {
   "cell_type": "code",
   "execution_count": 9,
   "metadata": {},
   "outputs": [
    {
     "data": {
      "text/plain": [
       "[]"
      ]
     },
     "execution_count": 9,
     "metadata": {},
     "output_type": "execute_result"
    }
   ],
   "source": [
    "soup.find_all('a')"
   ]
  },
  {
   "cell_type": "code",
   "execution_count": 10,
   "metadata": {},
   "outputs": [
    {
     "data": {
      "text/plain": [
       "[<p class=\"preloader-text\">LOADING</p>]"
      ]
     },
     "execution_count": 10,
     "metadata": {},
     "output_type": "execute_result"
    }
   ],
   "source": [
    "soup.find_all('p')#[0].get_text()"
   ]
  },
  {
   "cell_type": "code",
   "execution_count": 11,
   "metadata": {},
   "outputs": [
    {
     "data": {
      "text/plain": [
       "[]"
      ]
     },
     "execution_count": 11,
     "metadata": {},
     "output_type": "execute_result"
    }
   ],
   "source": [
    "soup.find_all('span')"
   ]
  },
  {
   "cell_type": "code",
   "execution_count": 12,
   "metadata": {},
   "outputs": [
    {
     "data": {
      "text/plain": [
       "[]"
      ]
     },
     "execution_count": 12,
     "metadata": {},
     "output_type": "execute_result"
    }
   ],
   "source": [
    "soup.find_all('class')"
   ]
  },
  {
   "cell_type": "code",
   "execution_count": 13,
   "metadata": {},
   "outputs": [
    {
     "data": {
      "text/plain": [
       "[<body><div id=\"preloader\"><div class=\"logo\"><img alt=\"logo\" src=\"https://content.dmart.in/img/DMartReady.svg\"/></div><p class=\"preloader-text\">LOADING</p></div><div id=\"root\"><div class=\"makeStyles-root-1\"></div><div></div></div><script>window.__PRELOADED_STATE__ = {\"commonReducer\":{\"loader\":false,\"maintenance\":{\"active\":false,\"title\":\"\",\"message\":\"\",\"image\":\"\"},\"error\":{},\"common\":{},\"user\":{},\"userType\":\"curious\",\"guest\":{},\"cart\":{},\"configs\":{},\"showFooter\":true,\"showHelp\":{\"show\":false,\"orderId\":\"\"},\"stream\":{},\"isApp\":false,\"shipmentSlots\":{},\"modalDataShipment\":null,\"isAllSlotSelected\":false,\"showConfirmShipmentBtn\":false,\"razorpayData\":{},\"pincodeTimeSlots\":null,\"showEarlierTimeSlotWidget\":true,\"showEarlierTimeSlotWidgetInHomepage\":false},\"_persist\":{\"version\":-1,\"rehydrated\":false}};window.__EXISTING_SESSION__ = null;window.__MAINTENANCE__ = false;window.__PAYMENT_CALLBACK__ = {};</script><script crossorigin=\"\" id=\"__LOADABLE_REQUIRED_CHUNKS__\" type=\"application/json\">[]</script><script crossorigin=\"\" id=\"__LOADABLE_REQUIRED_CHUNKS___ext\" type=\"application/json\">{\"namedChunks\":[]}</script><script async=\"\" crossorigin=\"\" data-chunk=\"client\" src=\"https://content.dmart.in/site/static/js/runtime~client.e882f8f8.js\"></script><script async=\"\" crossorigin=\"\" data-chunk=\"client\" src=\"https://content.dmart.in/site/static/js/commons-client-index.js.449fb516.chunk.js\"></script><script async=\"\" crossorigin=\"\" data-chunk=\"client\" src=\"https://content.dmart.in/site/static/js/commons-client-core.js.b65581df.chunk.js\"></script><script async=\"\" crossorigin=\"\" data-chunk=\"client\" src=\"https://content.dmart.in/site/static/js/client.df5d021e.chunk.js\"></script><script type=\"text/javascript\">if ('serviceWorker' in navigator) {window.addEventListener('load', function () {navigator.serviceWorker.register('service-worker.js', { scope: '/' }).then(function (registration) {console.log('ServiceWorker registration successful with scope: ', registration.scope);}, function (err) {console.log('ServiceWorker registration failed: ', err);});});}</script></body>]"
      ]
     },
     "execution_count": 13,
     "metadata": {},
     "output_type": "execute_result"
    }
   ],
   "source": [
    "soup.find_all('body')"
   ]
  },
  {
   "cell_type": "code",
   "execution_count": 14,
   "metadata": {},
   "outputs": [
    {
     "data": {
      "text/plain": [
       "[]"
      ]
     },
     "execution_count": 14,
     "metadata": {},
     "output_type": "execute_result"
    }
   ],
   "source": [
    "results = soup.find_all(\"div\", {'class':'src-client-components-product-card-vertical-card-__vertical-card-module___title-container'})\n",
    "for elements in results:\n",
    "                       print(results.find('a', class_=\"module___title\"))\n",
    "                                                 #'MuiGrid-root MuiGrid-item MuiGrid-grid-xs-12 MuiGrid-grid-sm-6 MuiGrid-grid-md-4 MuiGrid-grid-lg-auto MuiGrid-grid-xl-auto'}))\n",
    "                                                 #'src-client-components-product-card-vertical-card-__vertical-card-module___card-vertical'}))      \n",
    "\n",
    "\n",
    "# \"src-client-components-product-card-vertical-card-__vertical-card-module___card-vertical\"}).a.text\n",
    "\n",
    "                              # \"src-client-components-product-card-vertical-card-__vertical-card-module___title-container\"})#gridContainerDiv\")\n",
    "results"
   ]
  },
  {
   "cell_type": "code",
   "execution_count": 15,
   "metadata": {},
   "outputs": [
    {
     "ename": "AttributeError",
     "evalue": "ResultSet object has no attribute 'find_all'. You're probably treating a list of elements like a single element. Did you call find_all() when you meant to call find()?",
     "output_type": "error",
     "traceback": [
      "\u001b[1;31m---------------------------------------------------------------------------\u001b[0m",
      "\u001b[1;31mAttributeError\u001b[0m                            Traceback (most recent call last)",
      "\u001b[1;32m<ipython-input-15-177aa84612df>\u001b[0m in \u001b[0;36m<module>\u001b[1;34m\u001b[0m\n\u001b[0;32m      2\u001b[0m \u001b[0mresults\u001b[0m \u001b[1;33m=\u001b[0m \u001b[0msoup\u001b[0m\u001b[1;33m.\u001b[0m\u001b[0mfind_all\u001b[0m\u001b[1;33m(\u001b[0m\u001b[1;34m\"div\"\u001b[0m\u001b[1;33m,\u001b[0m \u001b[1;33m{\u001b[0m\u001b[1;34m'class'\u001b[0m\u001b[1;33m:\u001b[0m\u001b[1;34m'MuiGrid-root MuiGrid-container MuiGrid-spacing-xs-1'\u001b[0m\u001b[1;33m}\u001b[0m\u001b[1;33m)\u001b[0m\u001b[1;33m\u001b[0m\u001b[1;33m\u001b[0m\u001b[0m\n\u001b[0;32m      3\u001b[0m \u001b[1;33m\u001b[0m\u001b[0m\n\u001b[1;32m----> 4\u001b[1;33m \u001b[0mtable\u001b[0m \u001b[1;33m=\u001b[0m \u001b[0mresults\u001b[0m\u001b[1;33m.\u001b[0m\u001b[0mfind_all\u001b[0m\u001b[1;33m(\u001b[0m\u001b[1;34m'a'\u001b[0m\u001b[1;33m,\u001b[0m \u001b[0mclass_\u001b[0m\u001b[1;33m=\u001b[0m\u001b[1;34m\"module___title\"\u001b[0m\u001b[1;33m)\u001b[0m\u001b[1;33m\u001b[0m\u001b[1;33m\u001b[0m\u001b[0m\n\u001b[0m\u001b[0;32m      5\u001b[0m \u001b[1;33m\u001b[0m\u001b[0m\n\u001b[0;32m      6\u001b[0m \u001b[1;32mfor\u001b[0m \u001b[0mrow\u001b[0m \u001b[1;32min\u001b[0m \u001b[0mtable\u001b[0m\u001b[1;33m.\u001b[0m\u001b[0mfind_all\u001b[0m\u001b[1;33m(\u001b[0m\u001b[1;34m\"a\"\u001b[0m\u001b[1;33m)\u001b[0m\u001b[1;33m:\u001b[0m\u001b[1;33m\u001b[0m\u001b[1;33m\u001b[0m\u001b[0m\n",
      "\u001b[1;32m~\\Anaconda3\\lib\\site-packages\\bs4\\element.py\u001b[0m in \u001b[0;36m__getattr__\u001b[1;34m(self, key)\u001b[0m\n\u001b[0;32m   2079\u001b[0m         \u001b[1;34m\"\"\"Raise a helpful exception to explain a common code fix.\"\"\"\u001b[0m\u001b[1;33m\u001b[0m\u001b[1;33m\u001b[0m\u001b[0m\n\u001b[0;32m   2080\u001b[0m         raise AttributeError(\n\u001b[1;32m-> 2081\u001b[1;33m             \u001b[1;34m\"ResultSet object has no attribute '%s'. You're probably treating a list of elements like a single element. Did you call find_all() when you meant to call find()?\"\u001b[0m \u001b[1;33m%\u001b[0m \u001b[0mkey\u001b[0m\u001b[1;33m\u001b[0m\u001b[1;33m\u001b[0m\u001b[0m\n\u001b[0m\u001b[0;32m   2082\u001b[0m         )\n",
      "\u001b[1;31mAttributeError\u001b[0m: ResultSet object has no attribute 'find_all'. You're probably treating a list of elements like a single element. Did you call find_all() when you meant to call find()?"
     ]
    }
   ],
   "source": [
    "l = []\n",
    "results = soup.find_all(\"div\", {'class':'MuiGrid-root MuiGrid-container MuiGrid-spacing-xs-1'})\n",
    "\n",
    "table = results.find_all('a', class_=\"module___title\")\n",
    "\n",
    "for row in table.find_all(\"a\"):\n",
    "    l.append(row.text)"
   ]
  },
  {
   "cell_type": "code",
   "execution_count": 16,
   "metadata": {},
   "outputs": [
    {
     "data": {
      "text/plain": [
       "[]"
      ]
     },
     "execution_count": 16,
     "metadata": {},
     "output_type": "execute_result"
    }
   ],
   "source": [
    "soup.find_all('div',{'class':'MuiGrid-root MuiGrid-item MuiGrid-grid-xs-12 MuiGrid-grid-sm-6 MuiGrid-grid-md-4 MuiGrid-grid-lg-auto MuiGrid-grid-xl-auto'})\n",
    "#results"
   ]
  },
  {
   "cell_type": "code",
   "execution_count": 17,
   "metadata": {},
   "outputs": [
    {
     "name": "stdout",
     "output_type": "stream",
     "text": [
      "C:\\Users\\abhig\\Anaconda3\n"
     ]
    }
   ],
   "source": [
    "import sys\n",
    "\n",
    "locate_python = sys.exec_prefix\n",
    "\n",
    "print(locate_python)"
   ]
  },
  {
   "cell_type": "code",
   "execution_count": 18,
   "metadata": {},
   "outputs": [
    {
     "data": {
      "text/plain": [
       "[]"
      ]
     },
     "execution_count": 18,
     "metadata": {},
     "output_type": "execute_result"
    }
   ],
   "source": [
    "soup.find_all('div',class_='src-client-components-product-card-vertical-card-__vertical-card-module___title-container')\n"
   ]
  },
  {
   "cell_type": "code",
   "execution_count": 19,
   "metadata": {},
   "outputs": [
    {
     "data": {
      "text/plain": [
       "[]"
      ]
     },
     "execution_count": 19,
     "metadata": {},
     "output_type": "execute_result"
    }
   ],
   "source": [
    "soup.find_all('a',class_='src-client-components-product-card-vertical-card-__vertical-card-module___title')"
   ]
  },
  {
   "cell_type": "code",
   "execution_count": null,
   "metadata": {},
   "outputs": [],
   "source": [
    "#virtual env\n",
    "#vi\n"
   ]
  }
 ],
 "metadata": {
  "kernelspec": {
   "display_name": "Python 3",
   "language": "python",
   "name": "python3"
  },
  "language_info": {
   "codemirror_mode": {
    "name": "ipython",
    "version": 3
   },
   "file_extension": ".py",
   "mimetype": "text/x-python",
   "name": "python",
   "nbconvert_exporter": "python",
   "pygments_lexer": "ipython3",
   "version": "3.7.6"
  }
 },
 "nbformat": 4,
 "nbformat_minor": 4
}
